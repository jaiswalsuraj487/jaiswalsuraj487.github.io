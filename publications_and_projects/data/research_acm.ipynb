{
 "cells": [
  {
   "cell_type": "raw",
   "metadata": {
    "vscode": {
     "languageId": "raw"
    }
   },
   "source": [
    "---\n",
    "title: \"Eye in the Sky Detection and Compliance Monitoring of Brick\"\n",
    "author: \"Suraj Jaiswal\"\n",
    "date: \"May 24, 2024\"\n",
    "format: html\n",
    "categories: ['Deep Learning', 'Object Detection']\n",
    "---"
   ]
  },
  {
   "cell_type": "markdown",
   "metadata": {},
   "source": [
    "**[Paper](<Eye_in_the_Sky_Detection_and_Compliance_Monitoring_of_ Brick_ACMCOMPASS_2024.pdf>) accepted**  in **ACM Compass (Conference on Computing and Sustainable Societies)** 2024 Poster track.\n",
    "\n",
    "Live Streamlit Demo App: [link](https://brick-kilns-detector.streamlit.app/)\n",
    "\n",
    "<img src=\"../images/research2/streamlit_demo_acm.png\" width=\"800\">\n",
    "<img src=\"../images/research2/streamlit_demo_acm2.png\" width=\"800\">\n",
    "\n",
    "\n",
    "### Keywords: \n",
    "Object Detection, Satellite Imagery, Deep Learning, Transfer Learning\n",
    "\n",
    "### Abstract:\n",
    "- Air pollution kills 7 million people annually. The brick manufacturing industry accounts for 8%-14% of air pollution in the densely populated Indo-Gangetic plain. \n",
    "- Due to the unorganized nature of brick kilns, policy violation detection, such as proximity to human habitats, remains challenging. While previous studies have utilized computer vision-based machine learning methods for brick kiln detection from satellite imagery, they utilize proprietary satellite data and rarely focus on compliance with government policies. \n",
    "- In this research, we introduce a scalable framework for brick kiln detection and automatic compliance monitoring. We use Google Maps Static API to download the satellite imagery followed by the YOLOv8 model for detection. \n",
    "- We identified and hand-verified **19579 new brick kilns across 9 states within the Indo-Gangetic plain**. \n",
    "- Furthermore, we automate and test the compliance to the policies affecting human habitats, rivers and hospitals. Our results show that a substantial number of brick kilns do not meet the compliance requirements. Our framework offers a valuable tool for governments worldwide to automate and enforce policy regulations for brick kilns, addressing critical environmental and public health concerns.\n",
    "\n",
    "- In addition, we have deployed our model as a [web application](https://brick-kilns-detector.streamlit.app/) for automatically identifying brick kilns given a specific area by the user.\n",
    "\n",
    "To know more check: [Paper](Eye in the Sky Detection and Compliance Monitoring of Brick_ACMCOMPASS_2024.pdf) "
   ]
  }
 ],
 "metadata": {
  "kernelspec": {
   "display_name": "base",
   "language": "python",
   "name": "python3"
  },
  "language_info": {
   "codemirror_mode": {
    "name": "ipython",
    "version": 3
   },
   "file_extension": ".py",
   "mimetype": "text/x-python",
   "name": "python",
   "nbconvert_exporter": "python",
   "pygments_lexer": "ipython3",
   "version": "3.8.3"
  }
 },
 "nbformat": 4,
 "nbformat_minor": 2
}
