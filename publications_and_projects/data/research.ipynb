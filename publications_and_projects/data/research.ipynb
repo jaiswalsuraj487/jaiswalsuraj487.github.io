{
 "cells": [
  {
   "cell_type": "raw",
   "metadata": {},
   "source": [
    "---\n",
    "title: \"Towards Scalable Identification of Brick Kilns from Satellite Imagery with Active Learning\"\n",
    "author: \"Suraj Jaiswal\"\n",
    "date: \"Oct 27, 2023\"\n",
    "format: html\n",
    "categories: ['Active Learning','Deep Learning']\n",
    "---"
   ]
  },
  {
   "cell_type": "markdown",
   "metadata": {},
   "source": [
    "**[Paper](NeuraIPS_towards_scalable_identification.pdf) accepted** and in **nomination for best paper award** in **NeurIPS** 2023 Workshop on ReALML (Active learning and\n",
    "Machine learning in real world)\n",
    "\n",
    "Live Streamlit Demo App: [link](https://brick-kiln-detector-app.streamlit.app/)\n",
    "\n",
    "<img src=\"../images/streamlit_demo.png\" width=\"800\">\n",
    "\n",
    "\n",
    "### Keywords: \n",
    "Active Learning, Satellite Imagery, Transfer Learning\n",
    "\n",
    "### Abstract:\n",
    "- Air pollution is a leading cause of death globally, especially in south-east Asia. Brick production contributes significantly to air pollution. However, unlike other sources such as power plants, brick production is unregulated and thus hard to monitor. Traditional survey-based methods for kiln identification are time and resource-intensive. \n",
    "- Similarly, it is time-consuming for air quality experts to annotate satellite imagery manually. Recently, computer vision machine learning models have helped reduce labeling costs, but they need sufficiently large labeled imagery. In this paper, we propose scalable methods using active learning to accurately detect brick kilns with minimal manual labeling effort. Through this work, we have identified more than 700 new brick kilns across the Indo-Gangetic region: a highly populous and polluted region spanning 0.4 million square kilometers in India. \n",
    "- In addition, we have deployed our model as a [web application](https://brick-kiln-detector-app.streamlit.app/) for automatically identifying brick kilns given a specific area by the user.\n",
    "\n",
    "To know more check: [Paper](NeuraIPS_towards_scalable_identification.pdf) "
   ]
  }
 ],
 "metadata": {
  "kernelspec": {
   "display_name": "base",
   "language": "python",
   "name": "python3"
  },
  "language_info": {
   "codemirror_mode": {
    "name": "ipython",
    "version": 3
   },
   "file_extension": ".py",
   "mimetype": "text/x-python",
   "name": "python",
   "nbconvert_exporter": "python",
   "pygments_lexer": "ipython3",
   "version": "0.0.0"
  }
 },
 "nbformat": 4,
 "nbformat_minor": 2
}
