{
 "cells": [
  {
   "cell_type": "raw",
   "metadata": {
    "vscode": {
     "languageId": "raw"
    }
   },
   "source": [
    "---\n",
    "title: \"Space to Policy: Scalable Brick Kiln Detection and Automatic Compliance Monitoring with Geospatial Data\"\n",
    "author: \"Suraj Jaiswal\"\n",
    "date: \"July 16, 2025\" \n",
    "format: html\n",
    "categories: ['Object Detection','Deep Learning', Satellite Imagery]\n",
    "---"
   ]
  },
  {
   "cell_type": "markdown",
   "metadata": {},
   "source": [
    "**[Paper](https://dl.acm.org/doi/full/10.1145/3736649) accepted**  in **ACM Journal on Computing and Sustainable Societies** \n",
    "\n",
    "<!-- Live Streamlit Demo App: [link](https://brick-kilns-detector.streamlit.app/) -->\n",
    "\n",
    "<img src=\"../images/research_acm_journel/image.png\" alt=\"Predicted brick kiln samples\" style=\"max-width:100%; height:auto; display:block; margin:auto;\">\n",
    "\n",
    "<p align=\"center\"><em>Figure:</em> A few samples of predicted brick kilns of each brick kiln category from our model. The first, second, and third rows correspond to <strong>CFCBK</strong>, <strong>FCBK</strong>, and <strong>Zigzag</strong>, respectively.</p>\n",
    "\n",
    "\n",
    "\n",
    "- **Objective:** Built a scalable **machine learning pipeline** to detect and classify **30,638 brick kilns** across five states in India using **Planet Labs satellite imagery**.  \n",
    "- **Context:** Brick kilns contribute **8–14% of India’s air pollution** — accurate detection is vital for emission inventories and environmental governance.  \n",
    "- **Technical Approach:**  \n",
    "  - Trained **YOLO-OBB models** for oriented bounding box detection.  \n",
    "  - Developed a **custom geo-annotation tool** using **Leafmap** for labeling and visualization.  \n",
    "  - Implemented **iterative hand-validation** improving detection precision to **82%**.  \n",
    "- **Dataset:** Created the **largest open brick kiln dataset** (30k+ validated samples across 520,000 km²).  \n",
    "- **Validation:** Strong real-world correlation (**r = 0.94**) with official **UPPCB 2023 survey**.  \n",
    "- **Impact:** Enabled **automated compliance analysis** and **policy integration**, bridging the gap between **AI, satellite imagery, and governance**.\n",
    "\n",
    "To know more check: [Paper](https://dl.acm.org/doi/full/10.1145/3736649) "
   ]
  }
 ],
 "metadata": {
  "kernelspec": {
   "display_name": "nlp",
   "language": "python",
   "name": "python3"
  },
  "language_info": {
   "codemirror_mode": {
    "name": "ipython",
    "version": 3
   },
   "file_extension": ".py",
   "mimetype": "text/x-python",
   "name": "python",
   "nbconvert_exporter": "python",
   "pygments_lexer": "ipython3",
   "version": "3.12.8"
  }
 },
 "nbformat": 4,
 "nbformat_minor": 2
}
