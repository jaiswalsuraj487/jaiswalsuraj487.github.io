{
  "cells": [
    {
      "cell_type": "markdown",
      "metadata": {
        "id": "58b0ZzuTMOsh"
      },
      "source": [
        "Table of Symbols from the book Mathematics for Machine Learning: https://mml-book.github.io/. Latex was provided by the co-author Cheng Soon Ong (Many Thanks) and edited by Harry Wang: https://github.com/mml-book/mml-book.github.io/issues/634\n",
        "\n",
        "See latex version on overleaf.com: https://www.overleaf.com/read/mnzgdyrsjfsk\n",
        "\n"
      ]
    },
    {
      "cell_type": "markdown",
      "metadata": {
        "id": "DoAFq-jLMvRc"
      },
      "source": [
        "$\n",
        "\\renewcommand{\\vec}[1]{\\mathbf{#1}} % vector bf: boldface\n",
        "\\newcommand{\\mat}[1]{\\mathbf{#1}} % matrix\n",
        "\\renewcommand{\\T}{^\\top} % transpose\n",
        "\\newcommand{\\inv}{^{-1}} % inverse\n",
        "\\newcommand{\\set}[1]{\\mathcal{#1}} % set cal: calligraphic letters\n",
        "\\renewcommand{\\dim}{\\mathrm{dim}} % dimension, rm: roman typestyle\n",
        "\\newcommand{\\rank}{\\mathrm{rk}} % rank\n",
        "\\newcommand{\\determ}[1]{\\mathrm{det}(#1)} % determinant\n",
        "\\renewcommand{\\d}{\\mathrm{d}}\n",
        "\\newcommand{\\id}{\\mathrm{id}} % identity mapping\n",
        "\\newcommand{\\kernel}{\\mathrm{ker}} % kernel/nullspace\n",
        "\\newcommand{\\img}{\\mathrm{Im}} % image\n",
        "\\newcommand{\\idx}[1]{(#1)}\n",
        "\\newcommand{\\genset}[1]{\\mathrm{span}[#1]} % generating set\n",
        "\\newcommand{\\tensor}[1]{\\mathbb{#1}} % tensor\n",
        "\\newcommand{\\tr}{\\text{tr}} % trace\n",
        "\\newcommand{\\pdiffF}[2]{\\frac{\\partial #1}{\\partial #2}}\n",
        "\\newcommand{\\diffF}[2]{\\frac{\\d #1}{\\d #2}}\n",
        "\\newcommand{\\lag}{\\mathfrak{L}} % lagrangian\n",
        "\\newcommand{\\lik}{\\mathcal{L}} % likelihood\n",
        "\\newcommand{\\var}{\\mathbb{V}} % variance\n",
        "\\newcommand{\\E}{\\mathbb{E}} % expectation\n",
        "\\DeclareMathOperator{\\cov}{Cov} % covariance\n",
        "\\newcommand\\ci {\\perp\\kern-5pt \\perp}\n",
        "\\newcommand\\given {\\vert} % given\n",
        "% Gaussian distribution\n",
        "\\newcommand{\\gauss}[2]{\\mathcal{N}\\big(#1,#2\\big)}\n",
        "% other distributions\n",
        "\\newcommand{\\Ber}{\\text{Ber}}\n",
        "\\newcommand{\\Bin}{\\text{Bin}}\n",
        "\\newcommand{\\Beta}{\\text{Beta}}\n",
        "$\n",
        "\n",
        "|Symbol &nbsp; &nbsp; &nbsp; &nbsp; &nbsp; &nbsp; &nbsp; &nbsp; &nbsp;&nbsp; &nbsp; &nbsp; &nbsp; &nbsp; &nbsp;    | Typical Meaning |\n",
        "|----------------------------       |-----------------|\n",
        "|$a,b,c, \\alpha,\\beta,\\gamma$       |Scalars are lowercase|\n",
        "|$\\vec x,\\vec y,\\vec z$             |Vectors are bold lowercase|\n",
        "|$\\mat A,\\mat B,\\mat C$             |Matrices are bold uppercase|\n",
        "|$\\vec x \\T, \\mat A \\T$             |Transpose of a vector or matrix|\n",
        "|$\\mat A\\inv$                       |Inverse of a matrix|\n",
        "|$\\langle \\vec x, \\vec y\\rangle$    |Inner product of $\\vec x$ and $\\vec y$|\n",
        "|$\\vec x \\T \\vec y$                 |Dot product of $\\vec x$ and $\\vec y$|\n",
        "|$B = (\\vec b_1, \\vec b_2, \\vec b_3)$ |(Ordered) tuple|\n",
        "|$\\mat B = [\\vec b_1, \\vec b_2, \\vec b_3]$ |Matrix of column vectors stacked horizontally|\n",
        "|$\\set B = \\{\\vec b_1, \\vec b_2, \\vec b_3\\}$ |Set of vectors (unordered)|\n",
        "|$\\mathbb Z,\\mathbb N$ |Integers and natural numbers, respectively|\n",
        "|$\\mathbb R,\\mathbb C$ |Real and complex numbers, respectively|\n",
        "|$\\mathbb R^n$         |$n$-dimensional vector space of real numbers|\n",
        "|$\\forall x$           |Universal quantifier: for all $x$|\n",
        "|$\\exists x$           |Existential quantifier: there exists $x$|\n",
        "|$a := b$              |$a$ is defined as $b$|\n",
        "|$a =:b$               |$b$ is defined as $a$|\n",
        "|$a\\propto b$          |$a$ is proportional to $b$, i.e., $a =\\text\\{constant\\}\\cdot b$|\n",
        "|$g\\circ f$            |Function composition: $g$ after $f$|\n",
        "|$\\iff$                |If and only if|\n",
        "|$\\implies$            |Implies|\n",
        "|$\\set A, \\set C$      |Sets|\n",
        "|$a \\in \\set A$        |$a$ is an element of set $\\set A$|\n",
        "|$\\emptyset$           |Empty set|\n",
        "|$\\set A\\setminus \\set B$ |$\\set A$ without $\\set B$: the set of elements in $\\set A$ but not in $\\set B$|\n",
        "|$D$                   |Number of dimensions; indexed by $d=1,\\dots,D$|\n",
        "|$N$                   |Number of data points; indexed by $n=1,\\dots,N$|\n",
        "|$\\mathbf{I}_m$        |Identity matrix of size $m\\times m$|\n",
        "|$\\mathbf{0}_{m,n}$    |Matrix of zeros of size $m\\times n$|\n",
        "|$\\mathbf{1}_{m,n}$    |Matrix of ones of size $m\\times n$|\n",
        "|$\\vec e_i$            |Standard\\slash canonical vector (where $i$ is the component that is $1$) |\n",
        "|$\\dim$                |Dimensionality of vector space|\n",
        "|$\\rank(\\mat A)$       |Rank of matrix $\\mat A$|\n",
        "|$\\img(\\Phi)$          |Image of linear mapping $\\Phi$|\n",
        "|$\\kernel(\\Phi)$       |Kernel (null space) of a linear mapping $\\Phi$|\n",
        "|$\\genset{\\vec b_1}$   |Span (generating set) of $\\vec b_1$|\n",
        "|$\\tr(\\mat A)$         |Trace of $\\mat A$|\n",
        "|$\\det(\\mat A)$        |Determinant of $\\mat A$|\n",
        "|$| \\cdot |$           |Absolute value or determinant (depending on context)|\n",
        "|$\\| {\\cdot} \\|$       |Norm; Euclidean, unless specified|\n",
        "|$\\lambda$             |Eigenvalue or Lagrange multiplier|\n",
        "|$E_\\lambda$           |Eigenspace corresponding to eigenvalue $\\lambda$|\n",
        "|$\\vec x \\perp \\vec y$ |Vectors $\\vec x$ and $\\vec y$ are orthogonal|\n",
        "|$V$            |Vector space|\n",
        "|$V^\\perp$            |Orthogonal complement of vector space $V$|\n",
        "|$\\sum_{n=1}^N x_n$            |Sum of the $x_n$: $x_1 + \\dotsc + x_N$|\n",
        "|$\\prod_{n=1}^N x_n$           |Product of the $x_n$: $x_1 \\cdot\\dotsc \\cdot x_N$|\n",
        "|$\\vec \\theta$           |Parameter vector|\n",
        "|$\\pdiffF{f}{x}$           |Partial derivative of $f$ with respect to $x$|\n",
        "|$\\diffF{f}{x}$           |Total derivative of $f$ with respect to $x$|\n",
        "|$\\nabla $            |Gradient|\n",
        "|$f_* = \\min_x f(x)$            |The smallest function value of $f$|\n",
        "|$x_* \\in \\arg\\min_x f(x)$      | The value $x_*$ that minimizes $f$ (note: $\\arg\\min$ returns a set of values)|\n",
        "|$\\lag$            |Lagrangian|\n",
        "|$\\lik$           |Negative log-likelihood|\n",
        "|$\\binom{n}{k}$           |Binomial coefficient, $n$ choose $k$|\n",
        "|$\\var_X[\\vec x]$            |Variance of $\\vec x$ with respect to the random variable $X$|\n",
        "|$\\E_X[\\vec x]$            |Expectation of $\\vec x$ with respect to the random variable $X$|\n",
        "|$\\cov_{X,Y}[\\vec x, \\vec y]$            |Covariance between $\\vec x$ and $\\vec y$.|\n",
        "|$X \\ci Y\\given Z$            |$X$ is conditionally independent of $Y$ given $Z$|\n",
        "|$X\\sim p$            |Random variable $X$ is distributed according to $p$|\n",
        "|$\\gauss{\\mat \\mu}{\\mat \\Sigma}$            |Gaussian distribution with mean $\\vec \\mu$ and covariance $\\mat \\Sigma$ |\n",
        "|$\\Ber(\\mu)$            |Bernoulli distribution with parameter $\\mu$|\n",
        "|$\\Bin(N, \\mu)$           |Binomial distribution with parameters $N, \\mu$|\n",
        "|$\\Beta(\\alpha, \\beta)$           |Beta distribution with parameters $\\alpha, \\beta$|\n",
        "\n"
      ]
    },
    {
      "cell_type": "markdown",
      "metadata": {
        "id": "7dzkObR1rVXx"
      },
      "source": [
        "\\begin{figure}\n",
        "\\centering\n",
        "\\includegraphics[width=0.5\\textwidth]{linear_regression.pdf}\n",
        "\\caption{Probabilistic graphical model for linear regression}\n",
        "\\label{fig:linear_regression}\n",
        "\\end{figure}"
      ]
    },
    {
      "cell_type": "markdown",
      "metadata": {},
      "source": [
        "\\begin{figure}[ht]\n",
        "\\centering\n",
        "\\includegraphics[width=0.5\\textwidth]{linear_regression.pdf}\n",
        "\\caption{Probabilistic graphical model for linear regression}\n",
        "\\label{fig:linear_regression}\n",
        "\\end{figure}"
      ]
    },
    {
      "cell_type": "code",
      "execution_count": null,
      "metadata": {},
      "outputs": [],
      "source": [
        "θ\n",
        "yn\n",
        "σ\n",
        "xn\n",
        "n = 1, . . . , N"
      ]
    },
    {
      "cell_type": "code",
      "execution_count": 7,
      "metadata": {},
      "outputs": [
        {
          "ename": "SyntaxError",
          "evalue": "invalid syntax (2183852464.py, line 1)",
          "output_type": "error",
          "traceback": [
            "\u001b[1;36m  Cell \u001b[1;32mIn[7], line 1\u001b[1;36m\u001b[0m\n\u001b[1;33m    $ L(\\theta, σ | x_n, y_n) = \\prod_{n=1}^N p(y_n | x_n, \\theta, σ) $\u001b[0m\n\u001b[1;37m    ^\u001b[0m\n\u001b[1;31mSyntaxError\u001b[0m\u001b[1;31m:\u001b[0m invalid syntax\n"
          ]
        }
      ],
      "source": [
        "$ L(\\theta, σ | x_n, y_n) = \\prod_{n=1}^N p(y_n | x_n, \\theta, σ) $ "
      ]
    },
    {
      "cell_type": "code",
      "execution_count": null,
      "metadata": {},
      "outputs": [],
      "source": [
        "from re import L\n",
        "\n",
        "\n",
        "L(\\theta, \\sigma | x_n, y_n) = \\prod_{n=1}^N p(y_n | x_n, \\theta, \\sigma)"
      ]
    },
    {
      "cell_type": "code",
      "execution_count": null,
      "metadata": {},
      "outputs": [],
      "source": []
    }
  ],
  "metadata": {
    "colab": {
      "provenance": []
    },
    "kernelspec": {
      "display_name": "Python 3",
      "name": "python3"
    },
    "language_info": {
      "codemirror_mode": {
        "name": "ipython",
        "version": 3
      },
      "file_extension": ".py",
      "mimetype": "text/x-python",
      "name": "python",
      "nbconvert_exporter": "python",
      "pygments_lexer": "ipython3",
      "version": "3.11.3"
    }
  },
  "nbformat": 4,
  "nbformat_minor": 0
}
