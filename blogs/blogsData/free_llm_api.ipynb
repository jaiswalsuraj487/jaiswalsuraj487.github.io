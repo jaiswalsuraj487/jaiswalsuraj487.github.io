{
 "cells": [
  {
   "cell_type": "markdown",
   "id": "edc0fad6",
   "metadata": {},
   "source": [
    "# Using FREE Gemini API with Fallback\n",
    "This guide explains how to set up the Google AI Studio API key, install dependencies, and call Gemini models with Python."
   ]
  },
  {
   "cell_type": "markdown",
   "id": "77c3f381",
   "metadata": {},
   "source": [
    "🔑 Get your API key from [Google AI Studio](https://aistudio.google.com/) — no credit card required.\n",
    "\n",
    "⚡ The free tier comes with daily rate limits, so here we'll simply configure fallback models to maximize your total number of Request per day of API calls."
   ]
  },
  {
   "cell_type": "markdown",
   "id": "1366f5fd",
   "metadata": {},
   "source": [
    "## 1. Gemini Model Rate Limits\n",
    "\n",
    "Here’s a quick reference table of available Gemini models and their limits:"
   ]
  },
  {
   "cell_type": "markdown",
   "id": "4a142d47",
   "metadata": {},
   "source": [
    "| Model              | RPM | TPM      | RPD   |\n",
    "|--------------------|-----|----------|-------|\n",
    "| **Gemini 2.5 Pro**       | 5   | 250,000  | 100   |\n",
    "| **Gemini 2.5 Flash**     | 10  | 250,000  | 250   |\n",
    "| **Gemini 2.5 Flash-Lite**| 15  | 250,000  | 1,000 |\n",
    "| **Gemini 2.0 Flash**     | 15  | 1,000,000| 200   |\n",
    "| **Gemini 2.0 Flash-Lite**| 30  | 1,000,000| 200   |\n"
   ]
  },
  {
   "cell_type": "markdown",
   "id": "10ded347",
   "metadata": {},
   "source": [
    "## 2. Install Dependencies:\n",
    "\n",
    "Make sure you have the latest google-genai package:"
   ]
  },
  {
   "cell_type": "markdown",
   "id": "1a324457",
   "metadata": {},
   "source": [
    "```bash\n",
    "!pip install -q -U google-genai\n",
    "```"
   ]
  },
  {
   "cell_type": "markdown",
   "id": "6dd65ecd",
   "metadata": {},
   "source": [
    "⚡ Use Flash or Flash-Lite models for higher throughput or lightweight tasks. Use Pro for better reasoning and accuracy."
   ]
  },
  {
   "cell_type": "markdown",
   "id": "a4b6fe5e",
   "metadata": {},
   "source": [
    "## 3. Set Up the API Key\n",
    "\n",
    "Save it in an environment variable GEMINI_API_KEY."
   ]
  },
  {
   "cell_type": "code",
   "execution_count": null,
   "id": "6db30cf3",
   "metadata": {},
   "outputs": [],
   "source": [
    "import os\n",
    "\n",
    "# Set the environment variable\n",
    "os.environ[\"GEMINI_API_KEY\"] = \"your_api_key_here\"\n",
    "\n",
    "# Verify\n",
    "print(os.environ[\"GEMINI_API_KEY\"])\n"
   ]
  },
  {
   "cell_type": "markdown",
   "id": "603f4fdc",
   "metadata": {},
   "source": [
    "## 4. First API Call\n",
    "\n",
    "Here’s a simple example using Gemini 2.5 Pro:"
   ]
  },
  {
   "cell_type": "code",
   "execution_count": 3,
   "metadata": {},
   "outputs": [
    {
     "name": "stdout",
     "output_type": "stream",
     "text": [
      "Of course. Here is India explained in a few crisp points:\n",
      "\n",
      "*   **A Land of Immense Diversity:** Home to over 1.4 billion people, India is a mosaic of countless cultures, languages (22 official), and religions (birthplace of Hinduism, Buddhism, Jainism, and Sikhism). The phrase \"Unity in Diversity\" is its essence.\n",
      "\n",
      "*   **The World's Largest Democracy:** It is a federal parliamentary republic with a robust electoral system. Despite its complexities, democratic traditions are deeply rooted.\n",
      "\n",
      "*   **A Fast-Growing Major Economy:** India has one of the world's fastest-growing economies, driven by a powerful service sector (especially IT), a large industrial base, and a significant agricultural sector.\n",
      "\n",
      "*   **An Ancient Civilization:** Boasting a history of over 5,000 years, it has been home to ancient civilizations (Indus Valley), powerful empires (Mauryan, Gupta, Mughal), and a colonial past, culminating in a non-violent independence movement led by Mahatma Gandhi.\n",
      "\n",
      "*   **Rich Cultural Influence:** A global hub for spirituality, yoga, vibrant cuisine, classical arts, and a massive film industry known as \"Bollywood.\"\n",
      "\n",
      "*   **A Nation of Contrasts:** India is a study in contrasts, where ancient traditions coexist with modern technology, immense wealth with significant poverty, and serene landscapes with bustling, chaotic cities.\n"
     ]
    }
   ],
   "source": [
    "from google import genai\n",
    "\n",
    "# The client gets the API key from the environment variable `GEMINI_API_KEY`.\n",
    "client = genai.Client()\n",
    "\n",
    "response = client.models.generate_content(\n",
    "    model=\"gemini-2.5-pro\",\n",
    "    contents=\"Explain India in few crisp points\"\n",
    ")\n",
    "print(response.text)"
   ]
  },
  {
   "cell_type": "markdown",
   "id": "4e358bd4",
   "metadata": {},
   "source": [
    "## 5. Fallback Mechanism with Multiple Models\n",
    "\n",
    "To make your app more resilient, you can try multiple models in order. If one fails (due to quota or availability), the next one is used automatically."
   ]
  },
  {
   "cell_type": "code",
   "execution_count": 4,
   "metadata": {},
   "outputs": [],
   "source": [
    "from google import genai\n",
    "\n",
    "# The client gets the API key from the environment variable `GEMINI_API_KEY`.\n",
    "client = genai.Client()\n",
    "\n",
    "MODELS = [\n",
    "    \"gemini-2.5-pro\",\n",
    "    \"gemini-2.5-flash\",\n",
    "    \"gemini-2.5-flash-lite\",\n",
    "    \"gemini-2.0-flash\",\n",
    "    \"gemini-2.0-flash-lite\",\n",
    "]\n",
    "\n",
    "def generate_text(prompt: str) -> str:\n",
    "    \"\"\"\n",
    "    Try each model in order and return the response text \n",
    "    from the first model that works.\n",
    "    \"\"\"\n",
    "    for model in MODELS:\n",
    "        try:\n",
    "            response = client.models.generate_content(\n",
    "                model=model,\n",
    "                contents=prompt\n",
    "            )\n",
    "            print(f\"✅ Success with model: {model}\")\n",
    "            return response.text\n",
    "        except Exception as e:\n",
    "            print(f\"⚠️ Failed with model {model}: {e}\")\n",
    "    return \"❌ All models failed.\"\n",
    "\n"
   ]
  },
  {
   "cell_type": "code",
   "execution_count": 5,
   "id": "64772d39",
   "metadata": {},
   "outputs": [
    {
     "name": "stdout",
     "output_type": "stream",
     "text": [
      "✅ Success with model: gemini-2.5-pro\n",
      "\n",
      "Final Response:\n",
      " Of course. Here is an explanation of India in a few crisp points:\n",
      "\n",
      "*   **World's Largest Democracy:** With over 1.4 billion people, it is the most populous democracy on Earth, known for its vibrant and complex political landscape.\n",
      "\n",
      "*   **Ancient Civilization, Modern Nation:** Home to one of the world's oldest civilizations (Indus Valley), it is the birthplace of major religions like Hinduism, Buddhism, and Jainism. Today, it balances ancient traditions with modern aspirations.\n",
      "\n",
      "*   **A Fast-Growing Economic Power:** It is one of the world's fastest-growing major economies, a global hub for IT and software services, and has a successful space program (ISRO).\n",
      "\n",
      "*   **Unmatched Diversity:** India is a mosaic of cultures, with over 22 official languages, countless dialects, diverse cuisines, colourful festivals, and a vast array of ethnic groups living together.\n",
      "\n",
      "*   **Incredible Geographic Variety:** Its landscape spans from the snow-capped Himalayas in the north to tropical beaches in the south, encompassing vast deserts, fertile plains, and dense forests.\n"
     ]
    }
   ],
   "source": [
    "text = generate_text(\"Explain India in few crisp points\")\n",
    "print(\"\\nFinal Response:\\n\", text)\n"
   ]
  },
  {
   "cell_type": "markdown",
   "id": "f5a7c455",
   "metadata": {},
   "source": [
    "## References\n",
    "1. Google docs: https://ai.google.dev/gemini-api/docs\n",
    "2. Rate limits: https://ai.google.dev/gemini-api/docs/rate-limits#free-tier"
   ]
  }
 ],
 "metadata": {
  "kernelspec": {
   "display_name": "nlp",
   "language": "python",
   "name": "python3"
  },
  "language_info": {
   "codemirror_mode": {
    "name": "ipython",
    "version": 3
   },
   "file_extension": ".py",
   "mimetype": "text/x-python",
   "name": "python",
   "nbconvert_exporter": "python",
   "pygments_lexer": "ipython3",
   "version": "3.12.8"
  }
 },
 "nbformat": 4,
 "nbformat_minor": 5
}
