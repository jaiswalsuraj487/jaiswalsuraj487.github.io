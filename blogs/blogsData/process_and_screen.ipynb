{
 "cells": [
  {
   "cell_type": "raw",
   "metadata": {},
   "source": [
    "---\n",
    "title: \"Process and Screen\"\n",
    "author: \"Suraj Jaiswal and Siddhesh Dosi\"\n",
    "date: \"Nov 18, 2023\"\n",
    "format: html\n",
    "categories: ['System']\n",
    "---"
   ]
  },
  {
   "cell_type": "markdown",
   "metadata": {},
   "source": [
    "Please visit : [Siddhesh Dosi](https://git-siddhesh.github.io/) for more intersting content"
   ]
  },
  {
   "cell_type": "markdown",
   "metadata": {},
   "source": [
    "To know the owner of the process\n",
    "\n",
    "```\n",
    "ps -ef | grep 63592\n",
    "```\n",
    "\n",
    "Kill a process\n",
    "```\n",
    "kill pid\n",
    "```"
   ]
  },
  {
   "cell_type": "markdown",
   "metadata": {},
   "source": [
    "screen: <sid.sname>"
   ]
  },
  {
   "cell_type": "markdown",
   "metadata": {},
   "source": [
    "| Instruction                                | Command                       |\n",
    "|--------------------------------------------|-------------------------------|\n",
    "| List all the screens                       | `screen -ls`                  |\n",
    "| Create/Start a new screen                  | `screen -S sname`             |\n",
    "| Quit/Terminate a screen                    | `screen -XS sname quit`       |\n",
    "| Scroll history in the screen               | `Ctrl + A, ESC`               |\n",
    "| Detach the screen                          | `Ctrl + A + D`                |\n",
    "| Attach/Resume the screen                   | `screen -r sid` or `screen -r sname`|\n",
    "| Kill the process with id: sid              | `kill sid`                    |\n",
    "| Detach an elsewhere running screen         | `screen -d sid` or `screen -d sname`|"
   ]
  },
  {
   "cell_type": "markdown",
   "metadata": {},
   "source": [
    "## Step  by step example:\n",
    "1. screen -S sample\n",
    "2. run some process with stdout output\n",
    "3. ctrl + A, Esc (scroll using up and down key)\n",
    "4. ctrl + A + D (Detach)\n",
    "5. screen -ls\n",
    "\n",
    "*(base) dosisiddhesh@lingolexico:/home/dosisiddhesh$ screen -ls*\n",
    "\n",
    "*There is a screen on:*\n",
    "\n",
    "*220829.sample   (11/17/2023 11:55:27 AM)        (Detached)*\n",
    "\n",
    "1. screen -r sample (resume)\n",
    "2. ctrl + A + D (Detach)\n",
    "3. screen -XS sample quit (Screen terminated)\n",
    "4. screen -ls\n",
    "\n",
    "*No Sockets found in /run/screen/S-dosisiddhesh.*"
   ]
  }
 ],
 "metadata": {
  "kernelspec": {
   "display_name": "base",
   "language": "python",
   "name": "python3"
  },
  "language_info": {
   "codemirror_mode": {
    "name": "ipython",
    "version": 3
   },
   "file_extension": ".py",
   "mimetype": "text/x-python",
   "name": "python",
   "nbconvert_exporter": "python",
   "pygments_lexer": "ipython3",
   "version": "3.8.3"
  }
 },
 "nbformat": 4,
 "nbformat_minor": 2
}
